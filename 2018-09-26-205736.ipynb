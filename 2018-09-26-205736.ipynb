{
 "cells": [
  {
   "cell_type": "markdown",
   "metadata": {
    "collapsed": false
   },
   "source": [
    "We have two diffeent codes that do the same idea, (it is always good to see that there are more than one way to complete a task)"
   ]
  },
  {
   "cell_type": "code",
   "execution_count": 0,
   "metadata": {
    "collapsed": false
   },
   "outputs": [
   ],
   "source": [
    "#!/usr/bin/env python3\n",
    " #-*- coding: utf-8 -*-\n",
    "import sys\n",
    "import math\n",
    "\n",
    "n = int(sys.argv[1])\n",
    "\n",
    "def eratosthenes(n):\n",
    "    if (n >= 3):\n",
    "        list1 = []\n",
    "        for i in range(n):\n",
    "            list1.append(( i + 1 ))\n",
    "        a = 2\n",
    "        for x in range(int(math.ceil(math.sqrt(n)))):\n",
    "            for i in list1:\n",
    "                if ( i != a and ( i % a == 0 ) and i > 1):\n",
    "                    list1.remove(i)\n",
    "            a = a + 1\n",
    "        del list1[0]\n",
    "        print list1\n",
    "\n",
    "    else:\n",
    "        print(\"There are no primes less than your number.\")\n",
    "\n",
    "eratosthenes(n)"
   ]
  },
  {
   "cell_type": "code",
   "execution_count": 0,
   "metadata": {
    "collapsed": false
   },
   "outputs": [
   ],
   "source": [
    "#!/usr/bin/env python3\n",
    " #-*- coding: utf-8 -*-\n",
    "import sys \n",
    "import math \n",
    "n = int(sys.argv[1]) \n",
    "\n",
    "def gen_eratosthenes():\n",
    "    a = 1\n",
    "    b = 1\n",
    "    while True:\n",
    " #   for _ in range(n):\n",
    "        yield b\n",
    "        a , b = b , a + b\n",
    "#print(list(fib_gen(a)))\n",
    "\n",
    "def eratosthenes(n):\n",
    "    if (n >= 3):\n",
    "    a = 1\n",
    "        list1 = []\n",
    "    b = 1\n",
    "\n",
    "        f = gen_eratosthenes()\n",
    "        for i in range(n):\n",
    "    while True:\n",
    "            list1.append(( i + 1 ))\n",
    " #   for _ in range(n):\n",
    "        a = 2\n",
    "        yield b\n",
    "        for x in range(int(math.ceil(math.sqrt(n)))):\n",
    "        a , b = b , a + b\n",
    "            for i in list1:\n",
    "                if ( i != a and ( i % a == 0 ) and i > 1):\n",
    "                    list1.remove(i)\n",
    "            a = a + 1\n",
    "        del list1[0]\n",
    "        print list1\n",
    "\n",
    "\n",
    "  \n",
    "  else:\n",
    "        print(\"There are no primes less than your number.\")\n",
    "eratosthenes(n)"
   ]
  },
  {
   "cell_type": "markdown",
   "metadata": {
    "collapsed": false
   },
   "source": [
    "The Sieve of Eratosthenes: the goal of the code is to print all the prime numbers, this can be achieved by putting all the numbers in one list and then removing the non prime ones one by one. if we have n numbers it is enouth to cheak all numbers up to $\\sqrt{n}$.\n"
   ]
  },
  {
   "cell_type": "markdown",
   "metadata": {
    "collapsed": false
   },
   "source": [
    "Generating Prime Numbers:In this section will talk about the choices that were made in writing the code. The code usages a generator and methods of list such as append and remove. the code works by putting all the numbers in the list and than remove the none prime one's one by one. to check if a number is prime or not we check if the remainder of the number divided by another number in the list is 0. than at the end we remove the first element of the list which is 1 since it is not a prime number but it satisfies the properties."
   ]
  },
  {
   "cell_type": "code",
   "execution_count": 0,
   "metadata": {
    "collapsed": false
   },
   "outputs": [
   ],
   "source": [
   ]
  },
  {
   "cell_type": "markdown",
   "metadata": {
    "collapsed": false
   },
   "source": [
    "Benchmarking Implementations: I did not really seccsed to do this one: \n",
    "\n",
    "\n",
    "In your notebook, add a new section called \"Benchmarking Implementations\". In this section, use the %time and %timeit magic commands to compare the efficiency of your implementations for obtaining large numbers of primes (try n of 1,000,000). Which implementation is faster? By how much? Does it match your prediction about efficiency above? Speculate about what is being slow about the slower implementation. When writing your notebook, be sure to present your analysis clearly so that others can read and understand it - we will be exchanging work between groups next week for evaluation."
   ]
  },
  {
   "cell_type": "code",
   "execution_count": 0,
   "metadata": {
    "collapsed": false
   },
   "outputs": [
   ],
   "source": [
   ]
  },
  {
   "cell_type": "code",
   "execution_count": 0,
   "metadata": {
    "collapsed": false
   },
   "outputs": [
   ],
   "source": [
   ]
  },
  {
   "cell_type": "code",
   "execution_count": 0,
   "metadata": {
    "collapsed": false
   },
   "outputs": [
   ],
   "source": [
   ]
  },
  {
   "cell_type": "code",
   "execution_count": 0,
   "metadata": {
    "collapsed": false
   },
   "outputs": [
   ],
   "source": [
   ]
  }
 ],
 "metadata": {
  "kernelspec": {
   "display_name": "Python 3 (Anaconda 5)",
   "language": "python",
   "name": "anaconda5"
  }
 },
 "nbformat": 4,
 "nbformat_minor": 0
}